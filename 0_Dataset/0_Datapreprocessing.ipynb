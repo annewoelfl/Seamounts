{
 "cells": [
  {
   "cell_type": "markdown",
   "metadata": {},
   "source": [
    "# Data preprocessing"
   ]
  },
  {
   "cell_type": "markdown",
   "metadata": {},
   "source": [
    "Central project file to process all manuell reviewed and selected source bathymetrie images tiles.\n",
    "\n",
    "Input data has been collected by donwload images with seamounts in center by using database https://data.unep-wcmc.org/datasets/41 and bathemetry data via API of GMRT service https://www.gmrt.org/services/ImageServer.\n",
    "\n",
    "Every tile contains a scale border with geodata. This scale will removed by cropping.\n",
    "\n",
    "Result is a cropped and shrinked imageset as input for train, validation and test of all different models. "
   ]
  },
  {
   "cell_type": "code",
   "execution_count": 1,
   "metadata": {},
   "outputs": [
    {
     "name": "stdout",
     "output_type": "stream",
     "text": [
      "Preprocessing start\n",
      "Create output folder /workspaces/Seamounts/0_Dataset/processed_data if not already exists!\n",
      "Preprocessing images...\n",
      "Read images from input folder /workspaces/Seamounts/0_Dataset/raw_dataset\n",
      "Start with categorie folder /workspaces/Seamounts/0_Dataset/raw_dataset/with_seamount found 301 images\n",
      "Start with categorie folder /workspaces/Seamounts/0_Dataset/raw_dataset/without_seamount found 500 images\n",
      "Preprocessing of all images complete.\n"
     ]
    }
   ],
   "source": [
    "import os\n",
    "import cv2\n",
    "import config\n",
    "\n",
    "print(f\"Preprocessing start\")\n",
    "\n",
    "# Ensure output folder exists\n",
    "print(f\"Create output folder {config.DATASETS_FOLDER} if not already exists!\")\n",
    "os.makedirs(config.DATASETS_FOLDER, exist_ok=True)\n",
    "\n",
    "# Function to crop borders from an image\n",
    "def crop_fixed_border(image, crop_pixels=5):\n",
    "    height, width, _ = image.shape\n",
    "    if height > crop_pixels * 2 and width > crop_pixels * 2:\n",
    "        cropped_image = image[crop_pixels:height-crop_pixels, crop_pixels:width-crop_pixels]\n",
    "        return cropped_image\n",
    "    else:\n",
    "        # Return original image if cropping not possible\n",
    "        return image  \n",
    "\n",
    "# Preprocess images (cropping and resizing)\n",
    "print(\"Preprocessing images...\")\n",
    "\n",
    "print(f\"Read images from input folder {config.DATASETS_SOURCE_FOLDER}\")\n",
    "\n",
    "for category in config.CATEGORIES:\n",
    "    \n",
    "    # check and create cat dir if not exists\n",
    "    input_category_folder = os.path.join(config.DATASETS_SOURCE_FOLDER, category)\n",
    "    output_category_folder = os.path.join(config.DATASETS_FOLDER, category)\n",
    "    os.makedirs(output_category_folder, exist_ok=True)\n",
    "    \n",
    "    filenames_in_catfolder = os.listdir(input_category_folder)\n",
    "\n",
    "    print(f\"Start with categorie folder {input_category_folder} found {len(filenames_in_catfolder)} images\")\n",
    "\n",
    "    # process all images in cat subfolder\n",
    "    for file_name in filenames_in_catfolder:\n",
    "        image_path = os.path.join(input_category_folder, file_name)\n",
    "        output_path = os.path.join(output_category_folder, file_name)\n",
    "        try:\n",
    "            image = cv2.imread(image_path)\n",
    "            if image is not None:\n",
    "                cropped_image = crop_fixed_border(image, config.CROP_PIXELS)\n",
    "                resized_image = cv2.resize(cropped_image, config.IMAGE_SIZE)\n",
    "                cv2.imwrite(output_path, resized_image)\n",
    "        except Exception as e:\n",
    "            print(f\"Error processing {image_path}: {e}\")\n",
    "\n",
    "print(\"Preprocessing of all images complete.\")"
   ]
  }
 ],
 "metadata": {
  "kernelspec": {
   "display_name": "Python 3",
   "language": "python",
   "name": "python3"
  },
  "language_info": {
   "codemirror_mode": {
    "name": "ipython",
    "version": 3
   },
   "file_extension": ".py",
   "mimetype": "text/x-python",
   "name": "python",
   "nbconvert_exporter": "python",
   "pygments_lexer": "ipython3",
   "version": "3.12.1"
  }
 },
 "nbformat": 4,
 "nbformat_minor": 2
}
