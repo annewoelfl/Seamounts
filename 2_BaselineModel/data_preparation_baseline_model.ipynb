{
 "cells": [
  {
   "cell_type": "markdown",
   "metadata": {},
   "source": [
    "# Data preparation for baseline model\n",
    "\n",
    "Preprocess all images in folder dataset_for_galore_vol_1_1 that has been collected by donwload images with seamounts in center by using database https://data.unep-wcmc.org/datasets/41 and bathemetry data via API of GMRT service https://www.gmrt.org/services/ImageServer.\n",
    "\n",
    "Pre processing do the following\n",
    "\n",
    "- remove border with geo-scale by crop the image\n",
    "- shrink the images "
   ]
  },
  {
   "cell_type": "code",
   "execution_count": 3,
   "metadata": {},
   "outputs": [
    {
     "name": "stdout",
     "output_type": "stream",
     "text": [
      "Preprocessing images...\n",
      "Preprocessing complete.\n"
     ]
    }
   ],
   "source": [
    "import os\n",
    "import cv2\n",
    "\n",
    "# Parameters\n",
    "image_folder = \"dataset_for_galore_vol_1_1\"             # Root directory of the dataset\n",
    "output_folder = \"temp_processed_images\"                 # folder with cropped images as baseline model input\n",
    "image_size = (128, 128)                                 # Downscaled image size\n",
    "crop_pixels = 70                                        # Pixels to crop from each border\n",
    "categories = [\"with_seamount\", \"without_seamount\"]      # Subfolders in `image_folder`\n",
    "\n",
    "# Ensure output folder exists\n",
    "os.makedirs(output_folder, exist_ok=True)\n",
    "\n",
    "# Function to crop borders from an image\n",
    "def crop_fixed_border(image, crop_pixels=5):\n",
    "    height, width, _ = image.shape\n",
    "    if height > crop_pixels * 2 and width > crop_pixels * 2:\n",
    "        cropped_image = image[crop_pixels:height-crop_pixels, crop_pixels:width-crop_pixels]\n",
    "        return cropped_image\n",
    "    else:\n",
    "        return image  # Return original image if cropping not possible\n",
    "\n",
    "# Preprocess images (cropping and resizing)\n",
    "print(\"Preprocessing images...\")\n",
    "for category in categories:\n",
    "    category_folder = os.path.join(image_folder, category)\n",
    "    output_category_folder = os.path.join(output_folder, category)\n",
    "    os.makedirs(output_category_folder, exist_ok=True)\n",
    "    \n",
    "    for file_name in os.listdir(category_folder):\n",
    "        image_path = os.path.join(category_folder, file_name)\n",
    "        output_path = os.path.join(output_category_folder, file_name)\n",
    "        try:\n",
    "            image = cv2.imread(image_path)\n",
    "            if image is not None:\n",
    "                cropped_image = crop_fixed_border(image, crop_pixels)\n",
    "                resized_image = cv2.resize(cropped_image, image_size)\n",
    "                cv2.imwrite(output_path, resized_image)\n",
    "        except Exception as e:\n",
    "            print(f\"Error processing {image_path}: {e}\")\n",
    "\n",
    "print(\"Preprocessing complete.\")"
   ]
  }
 ],
 "metadata": {
  "kernelspec": {
   "display_name": "Python 3",
   "language": "python",
   "name": "python3"
  },
  "language_info": {
   "codemirror_mode": {
    "name": "ipython",
    "version": 3
   },
   "file_extension": ".py",
   "mimetype": "text/x-python",
   "name": "python",
   "nbconvert_exporter": "python",
   "pygments_lexer": "ipython3",
   "version": "3.12.1"
  }
 },
 "nbformat": 4,
 "nbformat_minor": 2
}
