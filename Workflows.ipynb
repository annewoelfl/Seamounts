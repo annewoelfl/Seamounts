{
 "cells": [
  {
   "cell_type": "markdown",
   "metadata": {},
   "source": [
    "Dataset Generation"
   ]
  },
  {
   "cell_type": "markdown",
   "metadata": {},
   "source": [
    "```mermaid\n",
    "graph LR;\n",
    "    A[\"'Try 5'\"] -->|Downloads seamount images| B[\"output_folder 'seamounts_galore'\"];\n",
    "    \n"
   ]
  },
  {
   "cell_type": "markdown",
   "metadata": {},
   "source": [
    "```mermaid\n",
    "graph TD\n",
    "    A[Start] --> B{Is it raining?}\n",
    "    B -->|Yes| C[Take an umbrella]\n",
    "    B -->|No| D[Enjoy the sun]\n",
    "    C --> E[Go outside]\n",
    "    D --> E\n",
    "    E[End]\n"
   ]
  },
  {
   "cell_type": "markdown",
   "metadata": {},
   "source": [
    "```mermaid\n",
    "graph TD\n",
    "    A[Start] --> B{Is it raining?}\n",
    "    B -->|Yes| C{Do you have an umbrella?}\n",
    "    C -->|Yes| D[Go outside with umbrella]\n",
    "    C -->|No| E[Buy umbrella]\n",
    "    E --> D\n",
    "    B -->|No| F[Go outside without umbrella]\n",
    "    F --> G{Do you need sunscreen?}\n",
    "    G -->|Yes| H[Apply sunscreen]\n",
    "    G -->|No| I[Go outside]\n",
    "    H --> I\n",
    "    I --> J[End]\n"
   ]
  },
  {
   "cell_type": "markdown",
   "metadata": {},
   "source": [
    "```mermaid\n",
    "sequenceDiagram\n",
    "    participant A as Alice\n",
    "    participant B as Bob\n",
    "    participant C as Charlie\n",
    "    Alice->>Bob: Hello Bob!\n",
    "    Bob->>Charlie: How is Alice doing?\n",
    "    Charlie->>Bob: She's fine, thanks!\n",
    "    Bob->>Alice: I'm good, thanks for asking.\n",
    "    Alice->>Charlie: How are you doing?\n",
    "    Charlie->>Alice: I'm doing well, thanks!\n"
   ]
  },
  {
   "cell_type": "markdown",
   "metadata": {},
   "source": [
    "```mermaid\n",
    "classDiagram\n",
    "    Animal <|-- Bird\n",
    "    Animal <|-- Fish\n",
    "    Animal : +String name\n",
    "    Animal : +int age\n",
    "    Bird : +fly()\n",
    "    Fish : +swim()\n",
    "    class Bird {\n",
    "        +String species\n",
    "        +void chirp()\n",
    "    }\n",
    "    class Fish {\n",
    "        +String color\n",
    "        +void swim()\n",
    "    }\n"
   ]
  }
 ],
 "metadata": {
  "language_info": {
   "name": "python"
  }
 },
 "nbformat": 4,
 "nbformat_minor": 2
}
