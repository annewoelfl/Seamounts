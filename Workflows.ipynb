{
 "cells": [
  {
   "cell_type": "markdown",
   "metadata": {},
   "source": [
    "Dataset Generation"
   ]
  },
  {
   "cell_type": "markdown",
   "metadata": {},
   "source": [
    "```mermaid\n",
    "graph TD\n",
    "    %% Part A: Dataset Generation\n",
    "    subgraph PartA [\"Part A: Dataset<br/>Characteristics<br/>\"]\n",
    "        A1[\"Script: Try2\"] --> |\"Creates Images\"| A2[\"Folder:<br/>seamount_images_equal_tiles\"]\n",
    "        A1 --> |\"Creates Images\"| A3[\"Folder:<br/>no_seamount_images_equal_tiles\"]\n",
    "        A4[\"Script: exploratory_data_analysis\"] --> |\"Analyzes\"| A2\n",
    "        A4 --> |\"Analyzes\"| A3\n",
    "\n",
    "        A5[\"Script: Try5\"] --> |\"Creates Images\"| A6[\"Folder:<br/>seamounts_galore\"]\n",
    "        A7[\"Script: Try6\"] --> |\"Creates Images\"| A8[\"Folder:<br/>no_seamounts_galore\"]\n",
    "    end\n",
    "\n",
    "    %% Part B: Baseline Model\n",
    "    subgraph PartB [\"Part B: BaselineModel\"]\n",
    "        A6 --> |\"Copied to\"| B1[\"Folder: dataset_for_galore_vol_1_1/<br/>with_seamount\"]\n",
    "        A8 --> |\"Copied to\"| B2[\"Folder: dataset_for_galore_vol_1_1/<br/>without_seamount\"]\n",
    "\n",
    "        B3[\"Script: baseline_model\"] --> |\"Uses\"| B1\n",
    "        B3 --> |\"Uses\"| B2\n",
    "        B4[\"Script: alt_baseline_model\"] --> |\"Uses\"| B1\n",
    "        B4 --> |\"Uses\"| B2\n",
    "\n",
    "        B1 --> |\"Manually Sorted\"| B5[\"Folder: dataset_for_galore_vol_1_1/<br/>with_seamount_manual1\"]\n",
    "        B2 --> |\"Manually Sorted\"| B6[\"Folder: dataset_for_galore_vol_1_1/<br/>without_seamount_manual1\"]\n",
    "    end\n",
    "\n",
    "    %% Part C: Model\n",
    "    subgraph PartC [\"Part C: Model\"]\n",
    "        B5 --> |\"Copied to\"| C1[\"Folder: data_241208\"]\n",
    "        B6 --> |\"Copied to\"| C1\n",
    "\n",
    "        C2[\"Script: baseline_model_galore_vol_1_1\"] --> |\"Processes and Evaluates\"| C1\n",
    "    end\n",
    "\n"
   ]
  }
 ],
 "metadata": {
  "kernelspec": {
   "display_name": "tensorflow_env",
   "language": "python",
   "name": "python3"
  },
  "language_info": {
   "name": "python",
   "version": "3.10.15"
  }
 },
 "nbformat": 4,
 "nbformat_minor": 2
}
